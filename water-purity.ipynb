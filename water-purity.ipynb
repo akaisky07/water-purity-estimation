{
 "cells": [
  {
   "cell_type": "code",
   "execution_count": 1,
   "id": "da7ebc82",
   "metadata": {
    "_cell_guid": "b1076dfc-b9ad-4769-8c92-a6c4dae69d19",
    "_uuid": "8f2839f25d086af736a60e9eeb907d3b93b6e0e5",
    "execution": {
     "iopub.execute_input": "2023-03-20T07:18:26.779763Z",
     "iopub.status.busy": "2023-03-20T07:18:26.779269Z",
     "iopub.status.idle": "2023-03-20T07:18:26.798940Z",
     "shell.execute_reply": "2023-03-20T07:18:26.797077Z"
    },
    "papermill": {
     "duration": 0.035026,
     "end_time": "2023-03-20T07:18:26.806430",
     "exception": false,
     "start_time": "2023-03-20T07:18:26.771404",
     "status": "completed"
    },
    "tags": []
   },
   "outputs": [
    {
     "name": "stdout",
     "output_type": "stream",
     "text": [
      "/kaggle/input/dat-a-thon23/sample_submission.csv\n",
      "/kaggle/input/dat-a-thon23/train.csv\n",
      "/kaggle/input/dat-a-thon23/test.csv\n"
     ]
    }
   ],
   "source": [
    "# This Python 3 environment comes with many helpful analytics libraries installed\n",
    "# It is defined by the kaggle/python Docker image: https://github.com/kaggle/docker-python\n",
    "# For example, here's several helpful packages to load\n",
    "\n",
    "import numpy as np # linear algebra\n",
    "import pandas as pd # data processing, CSV file I/O (e.g. pd.read_csv)\n",
    "\n",
    "# Input data files are available in the read-only \"../input/\" directory\n",
    "# For example, running this (by clicking run or pressing Shift+Enter) will list all files under the input directory\n",
    "\n",
    "import os\n",
    "for dirname, _, filenames in os.walk('/kaggle/input'):\n",
    "    for filename in filenames:\n",
    "        print(os.path.join(dirname, filename))\n",
    "\n",
    "# You can write up to 20GB to the current directory (/kaggle/working/) that gets preserved as output when you create a version using \"Save & Run All\" \n",
    "# You can also write temporary files to /kaggle/temp/, but they won't be saved outside of the current session"
   ]
  },
  {
   "cell_type": "code",
   "execution_count": 2,
   "id": "00ccdbdd",
   "metadata": {
    "execution": {
     "iopub.execute_input": "2023-03-20T07:18:26.821963Z",
     "iopub.status.busy": "2023-03-20T07:18:26.820989Z",
     "iopub.status.idle": "2023-03-20T07:18:38.551999Z",
     "shell.execute_reply": "2023-03-20T07:18:38.550440Z"
    },
    "papermill": {
     "duration": 11.743152,
     "end_time": "2023-03-20T07:18:38.555668",
     "exception": false,
     "start_time": "2023-03-20T07:18:26.812516",
     "status": "completed"
    },
    "tags": []
   },
   "outputs": [],
   "source": [
    "from sklearn.preprocessing import StandardScaler, LabelEncoder\n",
    "from keras.models import Sequential\n",
    "from keras.layers import Dense, Dropout\n",
    "from keras.utils import to_categorical\n",
    "from keras.callbacks import EarlyStopping\n",
    "from sklearn.model_selection import train_test_split"
   ]
  },
  {
   "cell_type": "code",
   "execution_count": 3,
   "id": "a2e3bcaa",
   "metadata": {
    "execution": {
     "iopub.execute_input": "2023-03-20T07:18:38.571806Z",
     "iopub.status.busy": "2023-03-20T07:18:38.570114Z",
     "iopub.status.idle": "2023-03-20T07:18:38.829286Z",
     "shell.execute_reply": "2023-03-20T07:18:38.827334Z"
    },
    "papermill": {
     "duration": 0.269825,
     "end_time": "2023-03-20T07:18:38.832634",
     "exception": false,
     "start_time": "2023-03-20T07:18:38.562809",
     "status": "completed"
    },
    "tags": []
   },
   "outputs": [
    {
     "data": {
      "text/html": [
       "<div>\n",
       "<style scoped>\n",
       "    .dataframe tbody tr th:only-of-type {\n",
       "        vertical-align: middle;\n",
       "    }\n",
       "\n",
       "    .dataframe tbody tr th {\n",
       "        vertical-align: top;\n",
       "    }\n",
       "\n",
       "    .dataframe thead th {\n",
       "        text-align: right;\n",
       "    }\n",
       "</style>\n",
       "<table border=\"1\" class=\"dataframe\">\n",
       "  <thead>\n",
       "    <tr style=\"text-align: right;\">\n",
       "      <th></th>\n",
       "      <th>id</th>\n",
       "      <th>categoryA</th>\n",
       "      <th>categoryB</th>\n",
       "      <th>categoryC</th>\n",
       "      <th>categoryD</th>\n",
       "      <th>categoryE</th>\n",
       "      <th>categoryF</th>\n",
       "      <th>featureA</th>\n",
       "      <th>featureB</th>\n",
       "      <th>featureC</th>\n",
       "      <th>...</th>\n",
       "      <th>compositionC</th>\n",
       "      <th>compositionD</th>\n",
       "      <th>compositionE</th>\n",
       "      <th>compositionF</th>\n",
       "      <th>compositionG</th>\n",
       "      <th>compositionH</th>\n",
       "      <th>compositionI</th>\n",
       "      <th>compositionJ</th>\n",
       "      <th>unit</th>\n",
       "      <th>result</th>\n",
       "    </tr>\n",
       "  </thead>\n",
       "  <tbody>\n",
       "    <tr>\n",
       "      <th>0</th>\n",
       "      <td>a563699ca2a601c6ac64aa29986a00a90fb42b48741695...</td>\n",
       "      <td>catA_1</td>\n",
       "      <td>catB_0</td>\n",
       "      <td>catC_718</td>\n",
       "      <td>catD_0</td>\n",
       "      <td>catE_0</td>\n",
       "      <td>catF_0</td>\n",
       "      <td>75808.375</td>\n",
       "      <td>4.457840</td>\n",
       "      <td>0.005718</td>\n",
       "      <td>...</td>\n",
       "      <td>26.0</td>\n",
       "      <td>0.0</td>\n",
       "      <td>32.0</td>\n",
       "      <td>3.0</td>\n",
       "      <td>0.0</td>\n",
       "      <td>9.0</td>\n",
       "      <td>22.26</td>\n",
       "      <td>20.0</td>\n",
       "      <td>unit_6</td>\n",
       "      <td>0.000458</td>\n",
       "    </tr>\n",
       "    <tr>\n",
       "      <th>1</th>\n",
       "      <td>91ab3eb3bcf6c8c1c5fe2da9ba671aa5a48c7369d9a50f...</td>\n",
       "      <td>catA_1</td>\n",
       "      <td>catB_0</td>\n",
       "      <td>catC_1309</td>\n",
       "      <td>catD_0</td>\n",
       "      <td>catE_0</td>\n",
       "      <td>catF_0</td>\n",
       "      <td>75808.375</td>\n",
       "      <td>4.457840</td>\n",
       "      <td>0.005718</td>\n",
       "      <td>...</td>\n",
       "      <td>26.0</td>\n",
       "      <td>0.0</td>\n",
       "      <td>32.0</td>\n",
       "      <td>3.0</td>\n",
       "      <td>0.0</td>\n",
       "      <td>9.0</td>\n",
       "      <td>22.26</td>\n",
       "      <td>20.0</td>\n",
       "      <td>unit_6</td>\n",
       "      <td>0.000335</td>\n",
       "    </tr>\n",
       "    <tr>\n",
       "      <th>2</th>\n",
       "      <td>7128c51c554735d6c81862684ad6005ae12d2edbcd4644...</td>\n",
       "      <td>catA_15</td>\n",
       "      <td>catB_0</td>\n",
       "      <td>catC_1309</td>\n",
       "      <td>catD_0</td>\n",
       "      <td>catE_0</td>\n",
       "      <td>catF_0</td>\n",
       "      <td>75808.375</td>\n",
       "      <td>4.457840</td>\n",
       "      <td>0.005718</td>\n",
       "      <td>...</td>\n",
       "      <td>26.0</td>\n",
       "      <td>0.0</td>\n",
       "      <td>32.0</td>\n",
       "      <td>3.0</td>\n",
       "      <td>0.0</td>\n",
       "      <td>9.0</td>\n",
       "      <td>22.26</td>\n",
       "      <td>20.0</td>\n",
       "      <td>unit_4</td>\n",
       "      <td>0.054072</td>\n",
       "    </tr>\n",
       "    <tr>\n",
       "      <th>3</th>\n",
       "      <td>c8144b52e4f63014de0a0d8e1c629bf0b05cb2696cfc23...</td>\n",
       "      <td>catA_0</td>\n",
       "      <td>catB_0</td>\n",
       "      <td>catC_935</td>\n",
       "      <td>catD_0</td>\n",
       "      <td>catE_0</td>\n",
       "      <td>catF_0</td>\n",
       "      <td>75808.375</td>\n",
       "      <td>4.457840</td>\n",
       "      <td>0.005718</td>\n",
       "      <td>...</td>\n",
       "      <td>26.0</td>\n",
       "      <td>0.0</td>\n",
       "      <td>32.0</td>\n",
       "      <td>3.0</td>\n",
       "      <td>0.0</td>\n",
       "      <td>9.0</td>\n",
       "      <td>22.26</td>\n",
       "      <td>20.0</td>\n",
       "      <td>unit_5</td>\n",
       "      <td>0.061143</td>\n",
       "    </tr>\n",
       "    <tr>\n",
       "      <th>4</th>\n",
       "      <td>88d15a5b2df6692f23d105ff1ae82ae026be00c9271eef...</td>\n",
       "      <td>catA_22</td>\n",
       "      <td>catB_0</td>\n",
       "      <td>catC_1325</td>\n",
       "      <td>catD_0</td>\n",
       "      <td>catE_2</td>\n",
       "      <td>catF_0</td>\n",
       "      <td>-40055.250</td>\n",
       "      <td>4.363288</td>\n",
       "      <td>0.729194</td>\n",
       "      <td>...</td>\n",
       "      <td>14.0</td>\n",
       "      <td>0.0</td>\n",
       "      <td>49.0</td>\n",
       "      <td>3.0</td>\n",
       "      <td>2.0</td>\n",
       "      <td>9.0</td>\n",
       "      <td>16.84</td>\n",
       "      <td>15.0</td>\n",
       "      <td>unit_15</td>\n",
       "      <td>0.015439</td>\n",
       "    </tr>\n",
       "  </tbody>\n",
       "</table>\n",
       "<p>5 rows × 28 columns</p>\n",
       "</div>"
      ],
      "text/plain": [
       "                                                  id categoryA categoryB  \\\n",
       "0  a563699ca2a601c6ac64aa29986a00a90fb42b48741695...    catA_1    catB_0   \n",
       "1  91ab3eb3bcf6c8c1c5fe2da9ba671aa5a48c7369d9a50f...    catA_1    catB_0   \n",
       "2  7128c51c554735d6c81862684ad6005ae12d2edbcd4644...   catA_15    catB_0   \n",
       "3  c8144b52e4f63014de0a0d8e1c629bf0b05cb2696cfc23...    catA_0    catB_0   \n",
       "4  88d15a5b2df6692f23d105ff1ae82ae026be00c9271eef...   catA_22    catB_0   \n",
       "\n",
       "   categoryC categoryD categoryE categoryF   featureA  featureB  featureC  \\\n",
       "0   catC_718    catD_0    catE_0    catF_0  75808.375  4.457840  0.005718   \n",
       "1  catC_1309    catD_0    catE_0    catF_0  75808.375  4.457840  0.005718   \n",
       "2  catC_1309    catD_0    catE_0    catF_0  75808.375  4.457840  0.005718   \n",
       "3   catC_935    catD_0    catE_0    catF_0  75808.375  4.457840  0.005718   \n",
       "4  catC_1325    catD_0    catE_2    catF_0 -40055.250  4.363288  0.729194   \n",
       "\n",
       "   ...  compositionC  compositionD  compositionE  compositionF  compositionG  \\\n",
       "0  ...          26.0           0.0          32.0           3.0           0.0   \n",
       "1  ...          26.0           0.0          32.0           3.0           0.0   \n",
       "2  ...          26.0           0.0          32.0           3.0           0.0   \n",
       "3  ...          26.0           0.0          32.0           3.0           0.0   \n",
       "4  ...          14.0           0.0          49.0           3.0           2.0   \n",
       "\n",
       "   compositionH  compositionI  compositionJ     unit    result  \n",
       "0           9.0         22.26          20.0   unit_6  0.000458  \n",
       "1           9.0         22.26          20.0   unit_6  0.000335  \n",
       "2           9.0         22.26          20.0   unit_4  0.054072  \n",
       "3           9.0         22.26          20.0   unit_5  0.061143  \n",
       "4           9.0         16.84          15.0  unit_15  0.015439  \n",
       "\n",
       "[5 rows x 28 columns]"
      ]
     },
     "execution_count": 3,
     "metadata": {},
     "output_type": "execute_result"
    }
   ],
   "source": [
    "df=pd.read_csv('/kaggle/input/dat-a-thon23/train.csv')\n",
    "df.head()"
   ]
  },
  {
   "cell_type": "code",
   "execution_count": 4,
   "id": "5cdc341e",
   "metadata": {
    "execution": {
     "iopub.execute_input": "2023-03-20T07:18:38.846619Z",
     "iopub.status.busy": "2023-03-20T07:18:38.845553Z",
     "iopub.status.idle": "2023-03-20T07:18:38.888983Z",
     "shell.execute_reply": "2023-03-20T07:18:38.886102Z"
    },
    "papermill": {
     "duration": 0.055372,
     "end_time": "2023-03-20T07:18:38.893537",
     "exception": false,
     "start_time": "2023-03-20T07:18:38.838165",
     "status": "completed"
    },
    "tags": []
   },
   "outputs": [
    {
     "name": "stdout",
     "output_type": "stream",
     "text": [
      "<class 'pandas.core.frame.DataFrame'>\n",
      "RangeIndex: 13000 entries, 0 to 12999\n",
      "Data columns (total 28 columns):\n",
      " #   Column        Non-Null Count  Dtype  \n",
      "---  ------        --------------  -----  \n",
      " 0   id            13000 non-null  object \n",
      " 1   categoryA     13000 non-null  object \n",
      " 2   categoryB     13000 non-null  object \n",
      " 3   categoryC     13000 non-null  object \n",
      " 4   categoryD     13000 non-null  object \n",
      " 5   categoryE     13000 non-null  object \n",
      " 6   categoryF     13000 non-null  object \n",
      " 7   featureA      12936 non-null  float64\n",
      " 8   featureB      12936 non-null  float64\n",
      " 9   featureC      12936 non-null  float64\n",
      " 10  featureD      12936 non-null  float64\n",
      " 11  featureE      12936 non-null  float64\n",
      " 12  featureF      13000 non-null  float64\n",
      " 13  featureG      12936 non-null  float64\n",
      " 14  featureH      12936 non-null  float64\n",
      " 15  featureI      12936 non-null  float64\n",
      " 16  compositionA  12936 non-null  float64\n",
      " 17  compositionB  12936 non-null  float64\n",
      " 18  compositionC  12936 non-null  float64\n",
      " 19  compositionD  12936 non-null  float64\n",
      " 20  compositionE  12936 non-null  float64\n",
      " 21  compositionF  12936 non-null  float64\n",
      " 22  compositionG  12936 non-null  float64\n",
      " 23  compositionH  12936 non-null  float64\n",
      " 24  compositionI  12936 non-null  float64\n",
      " 25  compositionJ  12936 non-null  float64\n",
      " 26  unit          13000 non-null  object \n",
      " 27  result        13000 non-null  float64\n",
      "dtypes: float64(20), object(8)\n",
      "memory usage: 2.8+ MB\n"
     ]
    }
   ],
   "source": [
    "df.info()"
   ]
  },
  {
   "cell_type": "code",
   "execution_count": 5,
   "id": "7d3db19b",
   "metadata": {
    "execution": {
     "iopub.execute_input": "2023-03-20T07:18:38.912778Z",
     "iopub.status.busy": "2023-03-20T07:18:38.910913Z",
     "iopub.status.idle": "2023-03-20T07:18:38.922526Z",
     "shell.execute_reply": "2023-03-20T07:18:38.920429Z"
    },
    "papermill": {
     "duration": 0.024258,
     "end_time": "2023-03-20T07:18:38.926020",
     "exception": false,
     "start_time": "2023-03-20T07:18:38.901762",
     "status": "completed"
    },
    "tags": []
   },
   "outputs": [
    {
     "data": {
      "text/plain": [
       "(13000, 28)"
      ]
     },
     "execution_count": 5,
     "metadata": {},
     "output_type": "execute_result"
    }
   ],
   "source": [
    "df.shape"
   ]
  },
  {
   "cell_type": "code",
   "execution_count": 6,
   "id": "4e6e47ee",
   "metadata": {
    "execution": {
     "iopub.execute_input": "2023-03-20T07:18:38.940527Z",
     "iopub.status.busy": "2023-03-20T07:18:38.938786Z",
     "iopub.status.idle": "2023-03-20T07:18:38.971418Z",
     "shell.execute_reply": "2023-03-20T07:18:38.969465Z"
    },
    "papermill": {
     "duration": 0.043522,
     "end_time": "2023-03-20T07:18:38.974942",
     "exception": false,
     "start_time": "2023-03-20T07:18:38.931420",
     "status": "completed"
    },
    "tags": []
   },
   "outputs": [
    {
     "data": {
      "text/plain": [
       "(12936, 28)"
      ]
     },
     "execution_count": 6,
     "metadata": {},
     "output_type": "execute_result"
    }
   ],
   "source": [
    "df=df.dropna()\n",
    "df.shape"
   ]
  },
  {
   "cell_type": "code",
   "execution_count": 7,
   "id": "efec5f04",
   "metadata": {
    "execution": {
     "iopub.execute_input": "2023-03-20T07:18:38.988652Z",
     "iopub.status.busy": "2023-03-20T07:18:38.988112Z",
     "iopub.status.idle": "2023-03-20T07:18:39.001466Z",
     "shell.execute_reply": "2023-03-20T07:18:38.999823Z"
    },
    "papermill": {
     "duration": 0.025071,
     "end_time": "2023-03-20T07:18:39.005657",
     "exception": false,
     "start_time": "2023-03-20T07:18:38.980586",
     "status": "completed"
    },
    "tags": []
   },
   "outputs": [],
   "source": [
    "# Separate the features and target variable\n",
    "X = df.drop('result', axis=1)\n",
    "y = df['result']*100"
   ]
  },
  {
   "cell_type": "code",
   "execution_count": 8,
   "id": "ce0517c4",
   "metadata": {
    "execution": {
     "iopub.execute_input": "2023-03-20T07:18:39.021562Z",
     "iopub.status.busy": "2023-03-20T07:18:39.020987Z",
     "iopub.status.idle": "2023-03-20T07:18:39.125052Z",
     "shell.execute_reply": "2023-03-20T07:18:39.123373Z"
    },
    "papermill": {
     "duration": 0.117394,
     "end_time": "2023-03-20T07:18:39.128672",
     "exception": false,
     "start_time": "2023-03-20T07:18:39.011278",
     "status": "completed"
    },
    "tags": []
   },
   "outputs": [],
   "source": [
    "# Convert categorical variables into numerical variables using label encoding\n",
    "le = LabelEncoder()\n",
    "X_categorical = X.select_dtypes(include=['object'])\n",
    "X_encoded = X_categorical.apply(le.fit_transform)\n",
    "X_numeric = X.select_dtypes(exclude=['object'])\n",
    "X_encoded = pd.concat([X_encoded, X_numeric], axis=1)"
   ]
  },
  {
   "cell_type": "code",
   "execution_count": 9,
   "id": "af668c72",
   "metadata": {
    "execution": {
     "iopub.execute_input": "2023-03-20T07:18:39.143566Z",
     "iopub.status.busy": "2023-03-20T07:18:39.142349Z",
     "iopub.status.idle": "2023-03-20T07:18:39.167565Z",
     "shell.execute_reply": "2023-03-20T07:18:39.165343Z"
    },
    "papermill": {
     "duration": 0.036339,
     "end_time": "2023-03-20T07:18:39.171047",
     "exception": false,
     "start_time": "2023-03-20T07:18:39.134708",
     "status": "completed"
    },
    "tags": []
   },
   "outputs": [
    {
     "name": "stdout",
     "output_type": "stream",
     "text": [
      "<class 'pandas.core.frame.DataFrame'>\n",
      "Int64Index: 12936 entries, 0 to 12999\n",
      "Data columns (total 27 columns):\n",
      " #   Column        Non-Null Count  Dtype  \n",
      "---  ------        --------------  -----  \n",
      " 0   id            12936 non-null  object \n",
      " 1   categoryA     12936 non-null  object \n",
      " 2   categoryB     12936 non-null  object \n",
      " 3   categoryC     12936 non-null  object \n",
      " 4   categoryD     12936 non-null  object \n",
      " 5   categoryE     12936 non-null  object \n",
      " 6   categoryF     12936 non-null  object \n",
      " 7   featureA      12936 non-null  float64\n",
      " 8   featureB      12936 non-null  float64\n",
      " 9   featureC      12936 non-null  float64\n",
      " 10  featureD      12936 non-null  float64\n",
      " 11  featureE      12936 non-null  float64\n",
      " 12  featureF      12936 non-null  float64\n",
      " 13  featureG      12936 non-null  float64\n",
      " 14  featureH      12936 non-null  float64\n",
      " 15  featureI      12936 non-null  float64\n",
      " 16  compositionA  12936 non-null  float64\n",
      " 17  compositionB  12936 non-null  float64\n",
      " 18  compositionC  12936 non-null  float64\n",
      " 19  compositionD  12936 non-null  float64\n",
      " 20  compositionE  12936 non-null  float64\n",
      " 21  compositionF  12936 non-null  float64\n",
      " 22  compositionG  12936 non-null  float64\n",
      " 23  compositionH  12936 non-null  float64\n",
      " 24  compositionI  12936 non-null  float64\n",
      " 25  compositionJ  12936 non-null  float64\n",
      " 26  unit          12936 non-null  object \n",
      "dtypes: float64(19), object(8)\n",
      "memory usage: 2.8+ MB\n"
     ]
    }
   ],
   "source": [
    "X.info()"
   ]
  },
  {
   "cell_type": "code",
   "execution_count": 10,
   "id": "584acd73",
   "metadata": {
    "execution": {
     "iopub.execute_input": "2023-03-20T07:18:39.185380Z",
     "iopub.status.busy": "2023-03-20T07:18:39.184852Z",
     "iopub.status.idle": "2023-03-20T07:20:03.021776Z",
     "shell.execute_reply": "2023-03-20T07:20:03.019693Z"
    },
    "papermill": {
     "duration": 83.912222,
     "end_time": "2023-03-20T07:20:03.089558",
     "exception": false,
     "start_time": "2023-03-20T07:18:39.177336",
     "status": "completed"
    },
    "tags": []
   },
   "outputs": [
    {
     "name": "stdout",
     "output_type": "stream",
     "text": [
      "Epoch 1/50\n",
      "259/259 [==============================] - 2s 4ms/step - loss: 3.4340 - accuracy: 0.3140 - val_loss: 3.0207 - val_accuracy: 0.3498\n",
      "Epoch 2/50\n",
      "259/259 [==============================] - 1s 4ms/step - loss: 3.0517 - accuracy: 0.3376 - val_loss: 2.9221 - val_accuracy: 0.3502\n",
      "Epoch 3/50\n",
      "259/259 [==============================] - 1s 4ms/step - loss: 2.9485 - accuracy: 0.3404 - val_loss: 2.8415 - val_accuracy: 0.3498\n",
      "Epoch 4/50\n",
      "259/259 [==============================] - 1s 4ms/step - loss: 2.8889 - accuracy: 0.3422 - val_loss: 2.8074 - val_accuracy: 0.3498\n",
      "Epoch 5/50\n",
      "259/259 [==============================] - 1s 4ms/step - loss: 2.8430 - accuracy: 0.3402 - val_loss: 2.7731 - val_accuracy: 0.3498\n",
      "Epoch 6/50\n",
      "259/259 [==============================] - 1s 4ms/step - loss: 2.8225 - accuracy: 0.3405 - val_loss: 2.7620 - val_accuracy: 0.3507\n",
      "Epoch 7/50\n",
      "259/259 [==============================] - 1s 4ms/step - loss: 2.8051 - accuracy: 0.3417 - val_loss: 2.7432 - val_accuracy: 0.3512\n",
      "Epoch 8/50\n",
      "259/259 [==============================] - 1s 4ms/step - loss: 2.7804 - accuracy: 0.3434 - val_loss: 2.7415 - val_accuracy: 0.3522\n",
      "Epoch 9/50\n",
      "259/259 [==============================] - 1s 3ms/step - loss: 2.7580 - accuracy: 0.3436 - val_loss: 2.7203 - val_accuracy: 0.3594\n",
      "Epoch 10/50\n",
      "259/259 [==============================] - 1s 3ms/step - loss: 2.7464 - accuracy: 0.3444 - val_loss: 2.7106 - val_accuracy: 0.3541\n",
      "Epoch 11/50\n",
      "259/259 [==============================] - 1s 4ms/step - loss: 2.7263 - accuracy: 0.3456 - val_loss: 2.6992 - val_accuracy: 0.3570\n",
      "Epoch 12/50\n",
      "259/259 [==============================] - 1s 4ms/step - loss: 2.7152 - accuracy: 0.3459 - val_loss: 2.6891 - val_accuracy: 0.3575\n",
      "Epoch 13/50\n",
      "259/259 [==============================] - 1s 3ms/step - loss: 2.7007 - accuracy: 0.3500 - val_loss: 2.6807 - val_accuracy: 0.3556\n",
      "Epoch 14/50\n",
      "259/259 [==============================] - 1s 3ms/step - loss: 2.6889 - accuracy: 0.3477 - val_loss: 2.6704 - val_accuracy: 0.3604\n",
      "Epoch 15/50\n",
      "259/259 [==============================] - 1s 4ms/step - loss: 2.6722 - accuracy: 0.3486 - val_loss: 2.6667 - val_accuracy: 0.3623\n",
      "Epoch 16/50\n",
      "259/259 [==============================] - 1s 4ms/step - loss: 2.6749 - accuracy: 0.3490 - val_loss: 2.6578 - val_accuracy: 0.3575\n",
      "Epoch 17/50\n",
      "259/259 [==============================] - 1s 3ms/step - loss: 2.6575 - accuracy: 0.3501 - val_loss: 2.6564 - val_accuracy: 0.3594\n",
      "Epoch 18/50\n",
      "259/259 [==============================] - 1s 4ms/step - loss: 2.6533 - accuracy: 0.3494 - val_loss: 2.6434 - val_accuracy: 0.3551\n",
      "Epoch 19/50\n",
      "259/259 [==============================] - 1s 4ms/step - loss: 2.6517 - accuracy: 0.3503 - val_loss: 2.6387 - val_accuracy: 0.3594\n",
      "Epoch 20/50\n",
      "259/259 [==============================] - 1s 4ms/step - loss: 2.6274 - accuracy: 0.3492 - val_loss: 2.6242 - val_accuracy: 0.3570\n",
      "Epoch 21/50\n",
      "259/259 [==============================] - 1s 3ms/step - loss: 2.6364 - accuracy: 0.3508 - val_loss: 2.6239 - val_accuracy: 0.3565\n",
      "Epoch 22/50\n",
      "259/259 [==============================] - 1s 3ms/step - loss: 2.6231 - accuracy: 0.3492 - val_loss: 2.6171 - val_accuracy: 0.3604\n",
      "Epoch 23/50\n",
      "259/259 [==============================] - 1s 4ms/step - loss: 2.6184 - accuracy: 0.3554 - val_loss: 2.6113 - val_accuracy: 0.3585\n",
      "Epoch 24/50\n",
      "259/259 [==============================] - 1s 4ms/step - loss: 2.5983 - accuracy: 0.3536 - val_loss: 2.5967 - val_accuracy: 0.3618\n",
      "Epoch 25/50\n",
      "259/259 [==============================] - 1s 4ms/step - loss: 2.5953 - accuracy: 0.3542 - val_loss: 2.5982 - val_accuracy: 0.3643\n",
      "Epoch 26/50\n",
      "259/259 [==============================] - 1s 3ms/step - loss: 2.5856 - accuracy: 0.3568 - val_loss: 2.5865 - val_accuracy: 0.3652\n",
      "Epoch 27/50\n",
      "259/259 [==============================] - 1s 3ms/step - loss: 2.5728 - accuracy: 0.3579 - val_loss: 2.5695 - val_accuracy: 0.3618\n",
      "Epoch 28/50\n",
      "259/259 [==============================] - 1s 4ms/step - loss: 2.5691 - accuracy: 0.3591 - val_loss: 2.5746 - val_accuracy: 0.3676\n",
      "Epoch 29/50\n",
      "259/259 [==============================] - 1s 3ms/step - loss: 2.5587 - accuracy: 0.3601 - val_loss: 2.5582 - val_accuracy: 0.3681\n",
      "Epoch 30/50\n",
      "259/259 [==============================] - 1s 3ms/step - loss: 2.5526 - accuracy: 0.3541 - val_loss: 2.5485 - val_accuracy: 0.3647\n",
      "Epoch 31/50\n",
      "259/259 [==============================] - 1s 4ms/step - loss: 2.5441 - accuracy: 0.3602 - val_loss: 2.5463 - val_accuracy: 0.3696\n",
      "Epoch 32/50\n",
      "259/259 [==============================] - 1s 3ms/step - loss: 2.5406 - accuracy: 0.3593 - val_loss: 2.5394 - val_accuracy: 0.3671\n",
      "Epoch 33/50\n",
      "259/259 [==============================] - 1s 3ms/step - loss: 2.5299 - accuracy: 0.3585 - val_loss: 2.5337 - val_accuracy: 0.3720\n",
      "Epoch 34/50\n",
      "259/259 [==============================] - 1s 4ms/step - loss: 2.5197 - accuracy: 0.3601 - val_loss: 2.5233 - val_accuracy: 0.3667\n",
      "Epoch 35/50\n",
      "259/259 [==============================] - 1s 3ms/step - loss: 2.5098 - accuracy: 0.3591 - val_loss: 2.5178 - val_accuracy: 0.3696\n",
      "Epoch 36/50\n",
      "259/259 [==============================] - 1s 4ms/step - loss: 2.5145 - accuracy: 0.3611 - val_loss: 2.5175 - val_accuracy: 0.3681\n",
      "Epoch 37/50\n",
      "259/259 [==============================] - 1s 3ms/step - loss: 2.5061 - accuracy: 0.3597 - val_loss: 2.5084 - val_accuracy: 0.3734\n",
      "Epoch 38/50\n",
      "259/259 [==============================] - 1s 4ms/step - loss: 2.4970 - accuracy: 0.3584 - val_loss: 2.5042 - val_accuracy: 0.3725\n",
      "Epoch 39/50\n",
      "259/259 [==============================] - 1s 3ms/step - loss: 2.4893 - accuracy: 0.3591 - val_loss: 2.4960 - val_accuracy: 0.3739\n",
      "Epoch 40/50\n",
      "259/259 [==============================] - 1s 3ms/step - loss: 2.4894 - accuracy: 0.3641 - val_loss: 2.4910 - val_accuracy: 0.3681\n",
      "Epoch 41/50\n",
      "259/259 [==============================] - 1s 4ms/step - loss: 2.4858 - accuracy: 0.3582 - val_loss: 2.4867 - val_accuracy: 0.3700\n",
      "Epoch 42/50\n",
      "259/259 [==============================] - 1s 3ms/step - loss: 2.4667 - accuracy: 0.3610 - val_loss: 2.4896 - val_accuracy: 0.3792\n",
      "Epoch 43/50\n",
      "259/259 [==============================] - 1s 4ms/step - loss: 2.4599 - accuracy: 0.3608 - val_loss: 2.4804 - val_accuracy: 0.3739\n",
      "Epoch 44/50\n",
      "259/259 [==============================] - 1s 3ms/step - loss: 2.4621 - accuracy: 0.3620 - val_loss: 2.4747 - val_accuracy: 0.3787\n",
      "Epoch 45/50\n",
      "259/259 [==============================] - 1s 4ms/step - loss: 2.4555 - accuracy: 0.3664 - val_loss: 2.4771 - val_accuracy: 0.3744\n",
      "Epoch 46/50\n",
      "259/259 [==============================] - 1s 4ms/step - loss: 2.4492 - accuracy: 0.3637 - val_loss: 2.4770 - val_accuracy: 0.3768\n",
      "Epoch 47/50\n",
      "259/259 [==============================] - 1s 4ms/step - loss: 2.4483 - accuracy: 0.3629 - val_loss: 2.4695 - val_accuracy: 0.3758\n",
      "Epoch 48/50\n",
      "259/259 [==============================] - 1s 4ms/step - loss: 2.4518 - accuracy: 0.3636 - val_loss: 2.4623 - val_accuracy: 0.3758\n",
      "Epoch 49/50\n",
      "259/259 [==============================] - 1s 4ms/step - loss: 2.4330 - accuracy: 0.3639 - val_loss: 2.4566 - val_accuracy: 0.3739\n",
      "Epoch 50/50\n",
      "259/259 [==============================] - 1s 4ms/step - loss: 2.4338 - accuracy: 0.3649 - val_loss: 2.4574 - val_accuracy: 0.3778\n",
      "Test loss: 2.4430\n",
      "Test accuracy: 0.3821\n"
     ]
    }
   ],
   "source": [
    "# Scale the numerical variables using standardization\n",
    "scaler = StandardScaler()\n",
    "X_scaled = scaler.fit_transform(X_encoded)\n",
    "\n",
    "# Convert the target variable into categorical variable using one-hot encoding\n",
    "y_categorical = to_categorical(y)\n",
    "\n",
    "# Split the dataset into training and testing sets\n",
    "X_train, X_test, y_train, y_test = train_test_split(X_scaled, y_categorical, test_size=0.2, random_state=42)\n",
    "\n",
    "# Define the model\n",
    "model = Sequential()\n",
    "model.add(Dense(64, input_dim=X_scaled.shape[1], activation='relu'))\n",
    "model.add(Dropout(0.2))\n",
    "model.add(Dense(32, activation='relu'))\n",
    "model.add(Dropout(0.2))\n",
    "model.add(Dense(y_categorical.shape[1], activation='softmax'))\n",
    "\n",
    "# Compile the model\n",
    "model.compile(loss='categorical_crossentropy', optimizer='adam', metrics=['accuracy'])\n",
    "\n",
    "# Train the model\n",
    "early_stop = EarlyStopping(monitor='val_loss', patience=10)\n",
    "model.fit(X_train, y_train, epochs=50, batch_size=32, validation_split=0.2, callbacks=[early_stop])\n",
    "\n",
    "# Evaluate the model on the testing dataset\n",
    "score = model.evaluate(X_test, y_test, verbose=0)\n",
    "print(f'Test loss: {score[0]:.4f}')\n",
    "print(f'Test accuracy: {score[1]:.4f}')"
   ]
  },
  {
   "cell_type": "code",
   "execution_count": 11,
   "id": "4b06b8f9",
   "metadata": {
    "execution": {
     "iopub.execute_input": "2023-03-20T07:20:03.215313Z",
     "iopub.status.busy": "2023-03-20T07:20:03.213505Z",
     "iopub.status.idle": "2023-03-20T07:20:04.180715Z",
     "shell.execute_reply": "2023-03-20T07:20:04.179543Z"
    },
    "papermill": {
     "duration": 1.031056,
     "end_time": "2023-03-20T07:20:04.184060",
     "exception": false,
     "start_time": "2023-03-20T07:20:03.153004",
     "status": "completed"
    },
    "tags": []
   },
   "outputs": [
    {
     "name": "stdout",
     "output_type": "stream",
     "text": [
      "219/219 [==============================] - 1s 2ms/step\n"
     ]
    }
   ],
   "source": [
    "# Load the new data into a pandas dataframe\n",
    "new_df = pd.read_csv('/kaggle/input/dat-a-thon23/test.csv')\n",
    "\n",
    "# Convert categorical variables into numerical variables using label encoding\n",
    "X_categorical_new = new_df.select_dtypes(include=['object'])\n",
    "X_encoded_new = X_categorical_new.apply(le.fit_transform)\n",
    "X_numeric_new = new_df.select_dtypes(exclude=['object'])\n",
    "X_encoded_new = pd.concat([X_encoded_new, X_numeric_new], axis=1)\n",
    "\n",
    "# Scale the numerical variables using standardization\n",
    "X_scaled_new = scaler.transform(X_encoded_new)\n",
    "\n",
    "# Predict the water quality result on the new dataset\n",
    "y_pred = model.predict(X_scaled_new).argmax(axis=1).astype(np.float32)\n",
    "# y_pred = model.predict(X_scaled_new)\n",
    "# y_pred = np.argmax(y_pred, axis=1)\n",
    "\n",
    "# Add the predicted water quality result column to the original dataframe\n",
    "new_df['result'] = y_pred/100\n",
    "\n",
    "output_data = new_df[['id', 'result']]\n",
    "\n",
    "# Save the updated dataframe to a new csv file\n",
    "output_data.to_csv('water_quality_data_with_predictions.csv', index=False)"
   ]
  },
  {
   "cell_type": "code",
   "execution_count": 12,
   "id": "2d52c7ab",
   "metadata": {
    "execution": {
     "iopub.execute_input": "2023-03-20T07:20:04.320727Z",
     "iopub.status.busy": "2023-03-20T07:20:04.319558Z",
     "iopub.status.idle": "2023-03-20T07:20:04.335703Z",
     "shell.execute_reply": "2023-03-20T07:20:04.333754Z"
    },
    "papermill": {
     "duration": 0.087966,
     "end_time": "2023-03-20T07:20:04.339636",
     "exception": false,
     "start_time": "2023-03-20T07:20:04.251670",
     "status": "completed"
    },
    "tags": []
   },
   "outputs": [
    {
     "data": {
      "text/html": [
       "<div>\n",
       "<style scoped>\n",
       "    .dataframe tbody tr th:only-of-type {\n",
       "        vertical-align: middle;\n",
       "    }\n",
       "\n",
       "    .dataframe tbody tr th {\n",
       "        vertical-align: top;\n",
       "    }\n",
       "\n",
       "    .dataframe thead th {\n",
       "        text-align: right;\n",
       "    }\n",
       "</style>\n",
       "<table border=\"1\" class=\"dataframe\">\n",
       "  <thead>\n",
       "    <tr style=\"text-align: right;\">\n",
       "      <th></th>\n",
       "      <th>id</th>\n",
       "      <th>result</th>\n",
       "    </tr>\n",
       "  </thead>\n",
       "  <tbody>\n",
       "    <tr>\n",
       "      <th>0</th>\n",
       "      <td>939edadbc8e0cddf21c8c5710c4f2f909abd36c196aee8...</td>\n",
       "      <td>0.01</td>\n",
       "    </tr>\n",
       "    <tr>\n",
       "      <th>1</th>\n",
       "      <td>fcfed000585350fdc6a982bd1146cd8cdd71d989a2fb01...</td>\n",
       "      <td>0.02</td>\n",
       "    </tr>\n",
       "    <tr>\n",
       "      <th>2</th>\n",
       "      <td>917b412b73b7c1c83f779d2f350acda4d2b14804579e79...</td>\n",
       "      <td>0.00</td>\n",
       "    </tr>\n",
       "    <tr>\n",
       "      <th>3</th>\n",
       "      <td>012d646dbd712fd4b752aa8761dc18aaf28643c262f859...</td>\n",
       "      <td>0.00</td>\n",
       "    </tr>\n",
       "    <tr>\n",
       "      <th>4</th>\n",
       "      <td>77c69c2a873444dfef22131bada7d9504ad731ca8df55d...</td>\n",
       "      <td>0.00</td>\n",
       "    </tr>\n",
       "    <tr>\n",
       "      <th>5</th>\n",
       "      <td>547afb1ac49f47e228912d5694e2703fab5007a06d165f...</td>\n",
       "      <td>0.03</td>\n",
       "    </tr>\n",
       "    <tr>\n",
       "      <th>6</th>\n",
       "      <td>bfd22324ba43c7392f9059944b4eb1a03a58e14347f4cf...</td>\n",
       "      <td>0.00</td>\n",
       "    </tr>\n",
       "    <tr>\n",
       "      <th>7</th>\n",
       "      <td>6bb430339d5ee94426a414737b08fbecea9d9e600d563a...</td>\n",
       "      <td>0.00</td>\n",
       "    </tr>\n",
       "    <tr>\n",
       "      <th>8</th>\n",
       "      <td>522ffe87e4f684d3b7108976d28053c8c51e02784d7cda...</td>\n",
       "      <td>0.00</td>\n",
       "    </tr>\n",
       "    <tr>\n",
       "      <th>9</th>\n",
       "      <td>f2742f7f09893e8f6bb1ddc1c54726cb775713eab3a5e7...</td>\n",
       "      <td>0.00</td>\n",
       "    </tr>\n",
       "    <tr>\n",
       "      <th>10</th>\n",
       "      <td>5d6de2b216ae474f094f9d2b18f6de106fc30f763a664f...</td>\n",
       "      <td>0.00</td>\n",
       "    </tr>\n",
       "    <tr>\n",
       "      <th>11</th>\n",
       "      <td>c445862e750a312af0695fe6108fdb8947ac3f9b6dfc63...</td>\n",
       "      <td>0.02</td>\n",
       "    </tr>\n",
       "    <tr>\n",
       "      <th>12</th>\n",
       "      <td>842909e3c39d144f35a2b9523f9d926203aeea1bf2336e...</td>\n",
       "      <td>0.01</td>\n",
       "    </tr>\n",
       "    <tr>\n",
       "      <th>13</th>\n",
       "      <td>4af129527ba2b9b29bb4e17f45a5abcf10f528ebf3401f...</td>\n",
       "      <td>0.00</td>\n",
       "    </tr>\n",
       "    <tr>\n",
       "      <th>14</th>\n",
       "      <td>b68ee7b399595ae591c876e9ad8bdfb8d9958f796a8504...</td>\n",
       "      <td>0.00</td>\n",
       "    </tr>\n",
       "    <tr>\n",
       "      <th>15</th>\n",
       "      <td>69dc754ff58bdb9661bd6c79b49fb057a660e9a273eb7b...</td>\n",
       "      <td>0.00</td>\n",
       "    </tr>\n",
       "    <tr>\n",
       "      <th>16</th>\n",
       "      <td>56425ffe0be8f38dc5abdaa3344778af86f2bfb4f828f6...</td>\n",
       "      <td>0.00</td>\n",
       "    </tr>\n",
       "    <tr>\n",
       "      <th>17</th>\n",
       "      <td>f0e24c642068c04f901b294a9f5ed97a40c47301922ee2...</td>\n",
       "      <td>0.03</td>\n",
       "    </tr>\n",
       "    <tr>\n",
       "      <th>18</th>\n",
       "      <td>111483dbd3bd51f115e979f15d3f0245d82d2a170d4532...</td>\n",
       "      <td>0.00</td>\n",
       "    </tr>\n",
       "    <tr>\n",
       "      <th>19</th>\n",
       "      <td>51d989851521b6f2d20dab84976b5e88412d51e3048816...</td>\n",
       "      <td>0.00</td>\n",
       "    </tr>\n",
       "  </tbody>\n",
       "</table>\n",
       "</div>"
      ],
      "text/plain": [
       "                                                   id  result\n",
       "0   939edadbc8e0cddf21c8c5710c4f2f909abd36c196aee8...    0.01\n",
       "1   fcfed000585350fdc6a982bd1146cd8cdd71d989a2fb01...    0.02\n",
       "2   917b412b73b7c1c83f779d2f350acda4d2b14804579e79...    0.00\n",
       "3   012d646dbd712fd4b752aa8761dc18aaf28643c262f859...    0.00\n",
       "4   77c69c2a873444dfef22131bada7d9504ad731ca8df55d...    0.00\n",
       "5   547afb1ac49f47e228912d5694e2703fab5007a06d165f...    0.03\n",
       "6   bfd22324ba43c7392f9059944b4eb1a03a58e14347f4cf...    0.00\n",
       "7   6bb430339d5ee94426a414737b08fbecea9d9e600d563a...    0.00\n",
       "8   522ffe87e4f684d3b7108976d28053c8c51e02784d7cda...    0.00\n",
       "9   f2742f7f09893e8f6bb1ddc1c54726cb775713eab3a5e7...    0.00\n",
       "10  5d6de2b216ae474f094f9d2b18f6de106fc30f763a664f...    0.00\n",
       "11  c445862e750a312af0695fe6108fdb8947ac3f9b6dfc63...    0.02\n",
       "12  842909e3c39d144f35a2b9523f9d926203aeea1bf2336e...    0.01\n",
       "13  4af129527ba2b9b29bb4e17f45a5abcf10f528ebf3401f...    0.00\n",
       "14  b68ee7b399595ae591c876e9ad8bdfb8d9958f796a8504...    0.00\n",
       "15  69dc754ff58bdb9661bd6c79b49fb057a660e9a273eb7b...    0.00\n",
       "16  56425ffe0be8f38dc5abdaa3344778af86f2bfb4f828f6...    0.00\n",
       "17  f0e24c642068c04f901b294a9f5ed97a40c47301922ee2...    0.03\n",
       "18  111483dbd3bd51f115e979f15d3f0245d82d2a170d4532...    0.00\n",
       "19  51d989851521b6f2d20dab84976b5e88412d51e3048816...    0.00"
      ]
     },
     "execution_count": 12,
     "metadata": {},
     "output_type": "execute_result"
    }
   ],
   "source": [
    "output_data.head(20)"
   ]
  },
  {
   "cell_type": "code",
   "execution_count": 13,
   "id": "e7beff0f",
   "metadata": {
    "execution": {
     "iopub.execute_input": "2023-03-20T07:20:04.470251Z",
     "iopub.status.busy": "2023-03-20T07:20:04.469678Z",
     "iopub.status.idle": "2023-03-20T07:20:04.481048Z",
     "shell.execute_reply": "2023-03-20T07:20:04.479122Z"
    },
    "papermill": {
     "duration": 0.082749,
     "end_time": "2023-03-20T07:20:04.485821",
     "exception": false,
     "start_time": "2023-03-20T07:20:04.403072",
     "status": "completed"
    },
    "tags": []
   },
   "outputs": [
    {
     "data": {
      "text/plain": [
       "(7000, 2)"
      ]
     },
     "execution_count": 13,
     "metadata": {},
     "output_type": "execute_result"
    }
   ],
   "source": [
    "output_data.shape"
   ]
  },
  {
   "cell_type": "code",
   "execution_count": null,
   "id": "82cc6460",
   "metadata": {
    "papermill": {
     "duration": 0.079341,
     "end_time": "2023-03-20T07:20:04.653219",
     "exception": false,
     "start_time": "2023-03-20T07:20:04.573878",
     "status": "completed"
    },
    "tags": []
   },
   "outputs": [],
   "source": []
  }
 ],
 "metadata": {
  "kernelspec": {
   "display_name": "Python 3",
   "language": "python",
   "name": "python3"
  },
  "language_info": {
   "codemirror_mode": {
    "name": "ipython",
    "version": 3
   },
   "file_extension": ".py",
   "mimetype": "text/x-python",
   "name": "python",
   "nbconvert_exporter": "python",
   "pygments_lexer": "ipython3",
   "version": "3.7.12"
  },
  "papermill": {
   "default_parameters": {},
   "duration": 113.019482,
   "end_time": "2023-03-20T07:20:08.058209",
   "environment_variables": {},
   "exception": null,
   "input_path": "__notebook__.ipynb",
   "output_path": "__notebook__.ipynb",
   "parameters": {},
   "start_time": "2023-03-20T07:18:15.038727",
   "version": "2.4.0"
  }
 },
 "nbformat": 4,
 "nbformat_minor": 5
}
